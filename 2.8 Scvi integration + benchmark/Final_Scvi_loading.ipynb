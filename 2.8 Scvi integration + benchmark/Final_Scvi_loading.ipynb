{
 "cells": [
  {
   "cell_type": "code",
   "execution_count": 28,
   "id": "3cfa84f6",
   "metadata": {},
   "outputs": [],
   "source": [
    "import anndata\n",
    "import scanpy as sc\n",
    "import numpy as np\n"
   ]
  },
  {
   "cell_type": "code",
   "execution_count": 35,
   "id": "1b220d6b",
   "metadata": {},
   "outputs": [],
   "source": [
    "adata = anndata.read_h5ad('2_scvi_integrated.h5ad')"
   ]
  },
  {
   "cell_type": "code",
   "execution_count": 36,
   "id": "afd156e2",
   "metadata": {},
   "outputs": [
    {
     "data": {
      "text/plain": [
       "AnnData object with n_obs × n_vars = 58364 × 2000\n",
       "    obs: 'orig.ident', 'nCount_RNA', 'nFeature_RNA', 'mitoPercent', 'Sample', '_scvi_batch', '_scvi_labels', 'leiden', 'louvain_0.8'\n",
       "    var: 'features', 'highly_variable', 'means', 'dispersions', 'dispersions_norm', 'highly_variable_nbatches', 'highly_variable_intersection'\n",
       "    uns: 'Sample_colors', '_scvi_manager_uuid', '_scvi_uuid', 'hvg', 'leiden', 'leiden_colors', 'log1p', 'louvain', 'louvain_0.8_colors', 'neighbors', 'umap'\n",
       "    obsm: 'X_scVI', 'X_umap', '_scvi_extra_categorical_covs'\n",
       "    layers: 'counts', 'scvi_normalized'\n",
       "    obsp: 'connectivities', 'distances'"
      ]
     },
     "execution_count": 36,
     "metadata": {},
     "output_type": "execute_result"
    }
   ],
   "source": [
    "adata"
   ]
  },
  {
   "cell_type": "code",
   "execution_count": 37,
   "id": "3c851c08",
   "metadata": {},
   "outputs": [],
   "source": [
    "del adata.obsm['_scvi_extra_categorical_covs']"
   ]
  },
  {
   "cell_type": "code",
   "execution_count": 38,
   "id": "e7d6b281",
   "metadata": {},
   "outputs": [
    {
     "data": {
      "text/plain": [
       "AnnData object with n_obs × n_vars = 58364 × 2000\n",
       "    obs: 'orig.ident', 'nCount_RNA', 'nFeature_RNA', 'mitoPercent', 'Sample', '_scvi_batch', '_scvi_labels', 'leiden', 'louvain_0.8'\n",
       "    var: 'features', 'highly_variable', 'means', 'dispersions', 'dispersions_norm', 'highly_variable_nbatches', 'highly_variable_intersection'\n",
       "    uns: 'Sample_colors', '_scvi_manager_uuid', '_scvi_uuid', 'hvg', 'leiden', 'leiden_colors', 'log1p', 'louvain', 'louvain_0.8_colors', 'neighbors', 'umap'\n",
       "    obsm: 'X_scVI', 'X_umap'\n",
       "    layers: 'counts', 'scvi_normalized'\n",
       "    obsp: 'connectivities', 'distances'"
      ]
     },
     "execution_count": 38,
     "metadata": {},
     "output_type": "execute_result"
    }
   ],
   "source": [
    "adata"
   ]
  },
  {
   "cell_type": "code",
   "execution_count": null,
   "id": "768ebdf5",
   "metadata": {},
   "outputs": [],
   "source": []
  },
  {
   "cell_type": "code",
   "execution_count": 22,
   "id": "39b9a447",
   "metadata": {},
   "outputs": [],
   "source": [
    "adata.obs.to_csv('final_scvi_metadata.csv')"
   ]
  },
  {
   "cell_type": "code",
   "execution_count": 39,
   "id": "b3a99bc4",
   "metadata": {},
   "outputs": [],
   "source": [
    "sc.pp.normalize_total(adata, target_sum=1e4)\n",
    "sc.pp.scale(adata, max_value=10)\n"
   ]
  },
  {
   "cell_type": "code",
   "execution_count": 24,
   "id": "1d4fed88",
   "metadata": {},
   "outputs": [],
   "source": [
    "del adata.obs"
   ]
  },
  {
   "cell_type": "code",
   "execution_count": null,
   "id": "de2ca950",
   "metadata": {},
   "outputs": [],
   "source": []
  },
  {
   "cell_type": "code",
   "execution_count": 25,
   "id": "cb93019e",
   "metadata": {},
   "outputs": [
    {
     "data": {
      "text/html": [
       "<div>\n",
       "<style scoped>\n",
       "    .dataframe tbody tr th:only-of-type {\n",
       "        vertical-align: middle;\n",
       "    }\n",
       "\n",
       "    .dataframe tbody tr th {\n",
       "        vertical-align: top;\n",
       "    }\n",
       "\n",
       "    .dataframe thead th {\n",
       "        text-align: right;\n",
       "    }\n",
       "</style>\n",
       "<table border=\"1\" class=\"dataframe\">\n",
       "  <thead>\n",
       "    <tr style=\"text-align: right;\">\n",
       "      <th></th>\n",
       "    </tr>\n",
       "  </thead>\n",
       "  <tbody>\n",
       "    <tr>\n",
       "      <th>AAACGAAAGATCCCAT-1-0</th>\n",
       "    </tr>\n",
       "    <tr>\n",
       "      <th>AAACGAACAGGCTACC-1-0</th>\n",
       "    </tr>\n",
       "    <tr>\n",
       "      <th>AAACGAAGTACAAGCG-1-0</th>\n",
       "    </tr>\n",
       "    <tr>\n",
       "      <th>AAACGAATCCTGCTAC-1-0</th>\n",
       "    </tr>\n",
       "    <tr>\n",
       "      <th>AAACGAATCTCTAAGG-1-0</th>\n",
       "    </tr>\n",
       "    <tr>\n",
       "      <th>...</th>\n",
       "    </tr>\n",
       "    <tr>\n",
       "      <th>TTTGGTTTCGAGAGCA_3-2</th>\n",
       "    </tr>\n",
       "    <tr>\n",
       "      <th>TTTGTTGAGATCCTAC_3-2</th>\n",
       "    </tr>\n",
       "    <tr>\n",
       "      <th>TTTGTTGGTTCAAACC_3-2</th>\n",
       "    </tr>\n",
       "    <tr>\n",
       "      <th>TTTGTTGTCCGCATAA_3-2</th>\n",
       "    </tr>\n",
       "    <tr>\n",
       "      <th>TTTGTTGTCTTTACAC_3-2</th>\n",
       "    </tr>\n",
       "  </tbody>\n",
       "</table>\n",
       "<p>58364 rows × 0 columns</p>\n",
       "</div>"
      ],
      "text/plain": [
       "Empty DataFrame\n",
       "Columns: []\n",
       "Index: [AAACGAAAGATCCCAT-1-0, AAACGAACAGGCTACC-1-0, AAACGAAGTACAAGCG-1-0, AAACGAATCCTGCTAC-1-0, AAACGAATCTCTAAGG-1-0, AAACGCTCAACCCGCA-1-0, AAACGCTGTCACTCTC-1-0, AAACGCTTCTACCAGA-1-0, AAAGAACAGCTTTGTG-1-0, AAAGAACTCGGAAACG-1-0, AAAGGATGTACTGTTG-1-0, AAAGGATGTTAAGTCC-1-0, AAAGGATTCGACACCG-1-0, AAAGGATTCTAGTGAC-1-0, AAAGGATTCTCCGTGT-1-0, AAAGGGCCACACAGAG-1-0, AAAGGGCTCATTGCGA-1-0, AAAGGGCTCCTATTGT-1-0, AAAGGGCTCGGCTTCT-1-0, AAAGGTAAGGTTGCCC-1-0, AAAGGTAAGTCAACAA-1-0, AAAGGTATCAGGGTAG-1-0, AAAGTCCCACGGAAGT-1-0, AAAGTCCCATACGCAT-1-0, AAAGTCCTCTTCACAT-1-0, AAAGTGACATGGTACT-1-0, AAAGTGACATTCGGGC-1-0, AAAGTGAGTACAAAGT-1-0, AAAGTGAGTCGACTGC-1-0, AAATGGAAGCGTCTGC-1-0, AAATGGACAAGATGGC-1-0, AAATGGAGTTATCTGG-1-0, AAATGGATCCCTATTA-1-0, AAATGGATCTCTCGAC-1-0, AACAAAGAGAACAGGA-1-0, AACAAAGGTACCACGC-1-0, AACAAAGGTCTACGTA-1-0, AACAAAGTCAAGCCCG-1-0, AACAACCAGCGGCTCT-1-0, AACAACCGTTAGGCTT-1-0, AACAAGAAGACGACTG-1-0, AACAAGACATGCCATA-1-0, AACAAGAGTCACTACA-1-0, AACAAGAGTTCCGGTG-1-0, AACACACAGAGCTGCA-1-0, AACACACCACTTCAGA-1-0, AACACACCATCACCAA-1-0, AACACACTCCTCGCAT-1-0, AACAGGGCAGTTAAAG-1-0, AACAGGGCATGTGACT-1-0, AACAGGGGTCCGGATC-1-0, AACAGGGTCCCGAGAC-1-0, AACCAACAGCCAGAGT-1-0, AACCAACCAAGTGTCT-1-0, AACCAACGTAGTCTGT-1-0, AACCAACTCAAGGCTT-1-0, AACCAACTCTCTGACC-1-0, AACCACAAGCCTGCCA-1-0, AACCACACAACTGTGT-1-0, AACCACACAGCTATTG-1-0, AACCACAGTATGGAGC-1-0, AACCACAGTTAGAGAT-1-0, AACCACATCCTTCGAC-1-0, AACCATGCAACATCGT-1-0, AACCATGCAGACCAAG-1-0, AACCATGTCCGAGTGC-1-0, AACCATGTCTCAGTCC-1-0, AACCCAACACCCTTGT-1-0, AACCCAACACGGCTAC-1-0, AACCCAACAGCGGTCT-1-0, AACCCAAGTTGAGTCT-1-0, AACCCAATCTGCGGGT-1-0, AACCTGAAGTCCGTCG-1-0, AACCTGACAGTAGGAC-1-0, AACCTTTAGGTATTGA-1-0, AACCTTTCACATATGC-1-0, AACCTTTGTTTCGTTT-1-0, AACCTTTTCGCAGTTA-1-0, AACGAAAAGAGTCAGC-1-0, AACGAAAAGCGTTAGG-1-0, AACGAAATCGGAGTGA-1-0, AACGAAATCTATCCAT-1-0, AACGGGACATGACTCA-1-0, AACGGGACATGAGATA-1-0, AACGGGATCAGAACCT-1-0, AACGTCACACCGAATT-1-0, AACGTCACAGACCCGT-1-0, AACGTCACATTAGGCT-1-0, AACGTCAGTTACAGCT-1-0, AACGTCATCTGTTCAT-1-0, AACTTCTCAAGTATCC-1-0, AACTTCTCACTTGTGA-1-0, AAGAACATCAGACCTA-1-0, AAGAACATCCATCTCG-1-0, AAGAACATCGTCAAAC-1-0, AAGACAACATTGTCGA-1-0, AAGACAATCGTAACCA-1-0, AAGACTCAGGGTACGT-1-0, AAGACTCGTGAAGCGT-1-0, AAGACTCTCGTGTCAA-1-0, ...]\n",
       "\n",
       "[58364 rows x 0 columns]"
      ]
     },
     "execution_count": 25,
     "metadata": {},
     "output_type": "execute_result"
    }
   ],
   "source": [
    "adata.obs"
   ]
  },
  {
   "cell_type": "code",
   "execution_count": 40,
   "id": "c6703e0e",
   "metadata": {},
   "outputs": [],
   "source": [
    "anndata.AnnData.write(adata,'5_scvi_integrated.h5ad' )\n"
   ]
  },
  {
   "cell_type": "code",
   "execution_count": 42,
   "id": "5f342b52",
   "metadata": {},
   "outputs": [
    {
     "data": {
      "text/plain": [
       "AnnData object with n_obs × n_vars = 58364 × 2000\n",
       "    obs: 'orig.ident', 'nCount_RNA', 'nFeature_RNA', 'mitoPercent', 'Sample', '_scvi_batch', '_scvi_labels', 'leiden', 'louvain_0.8'\n",
       "    var: 'features', 'highly_variable', 'means', 'dispersions', 'dispersions_norm', 'highly_variable_nbatches', 'highly_variable_intersection', 'mean', 'std'\n",
       "    uns: 'Sample_colors', '_scvi_manager_uuid', '_scvi_uuid', 'hvg', 'leiden', 'leiden_colors', 'log1p', 'louvain', 'louvain_0.8_colors', 'neighbors', 'umap'\n",
       "    obsm: 'X_scVI', 'X_umap'\n",
       "    layers: 'counts', 'scvi_normalized'\n",
       "    obsp: 'connectivities', 'distances'"
      ]
     },
     "execution_count": 42,
     "metadata": {},
     "output_type": "execute_result"
    }
   ],
   "source": [
    "adata"
   ]
  },
  {
   "cell_type": "code",
   "execution_count": null,
   "id": "51ebcb1d",
   "metadata": {},
   "outputs": [],
   "source": []
  }
 ],
 "metadata": {
  "kernelspec": {
   "display_name": "Python 3 (ipykernel)",
   "language": "python",
   "name": "python3"
  },
  "language_info": {
   "codemirror_mode": {
    "name": "ipython",
    "version": 3
   },
   "file_extension": ".py",
   "mimetype": "text/x-python",
   "name": "python",
   "nbconvert_exporter": "python",
   "pygments_lexer": "ipython3",
   "version": "3.9.16"
  }
 },
 "nbformat": 4,
 "nbformat_minor": 5
}
